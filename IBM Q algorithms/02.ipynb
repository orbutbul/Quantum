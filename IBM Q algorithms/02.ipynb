{
 "cells": [
  {
   "attachments": {},
   "cell_type": "markdown",
   "metadata": {},
   "source": [
    "# Quantum Algorithmic Foundations"
   ]
  },
  {
   "attachments": {},
   "cell_type": "markdown",
   "metadata": {},
   "source": [
    "### Intro\n",
    "\n",
    "- Why do we even need Q. algorithms? classical computers are already so fast\n",
    "    - no actually, int. factorization is super slow, all numbers have a prime factorization but getting it is not efficient enough.\n",
    "        - Fastest method == number field sieve\n",
    "    -Greatest common divisors can be computed super fast but this takes forever, whats the deal?\n"
   ]
  },
  {
   "attachments": {},
   "cell_type": "markdown",
   "metadata": {},
   "source": [
    "### Measuring Computational Cost\n",
    "\n",
    "Computation can be modeled\n",
    "\n",
    "|Input| -> |Computation| -> |Output|\n",
    "\n",
    "lets assume the input and outputs are binary strings (relevant to Circuits)\n",
    "- we can encode the info as binary strings, duh\n",
    "- append a signed bit for the sign of the number\n",
    "\n",
    "\n",
    "every data type/ information can be reduced to binary strings as long as we know how to read them (create the encoding scheme)\n",
    "\n",
    "the length of the input string can represent the size of the specific problem being solved\n",
    "- we can represetn the length of the string as lg[N] where N is the number. \n",
    "##### lg[N] = [Log2(N)]\n",
    "\n",
    "How do we classify the cost of Computation?\n",
    "\n",
    "- count the number of *elementary operations* the computation has\n",
    "    - something that changes a fixed number of bits or qubits easily\n",
    "    - smallest unit of operation (AND, XOR)\n",
    "- In the Quantum circuit model, most gates can count as one elementary operation\n",
    "    -  X, Y, Z, H S, S dagger, T, T dagger  \n",
    "    - CNOT\n",
    "    - Measurements\n",
    "    - Unitary op. that work on multiple qubits DO NOT count\n",
    "- Boolean Circuits (AND, OR, NOT, FANOUT)\n",
    "\n",
    "The amount of gates in a circuit is the circuits size (C)\n",
    "Size doesnt necessarily correlate to computational time.\n",
    "- Some gates can be performed simultaneously\n",
    "\n",
    "A measurement that takes into account parallelization is depth\n",
    "- \"minimum number of layers of gates needed within the circuit, where the gates within in each layer operate on different wires.\"\n",
    "- Max gates on a single wire\n",
    "\n",
    "Computational Cost of a function t\n",
    "- t(n) == \"number of gates in the circuit that implement the algorithm of n-bit inputs\"\n",
    "- t(n)= size(Cn) == size of the n circuits for our n-bit input\n",
    "\n",
    "#### EXAMPLES\n",
    "\n",
    "Integer Addition\n",
    "- input: N,M 2(n bit numbers)\n",
    "- Output: N+M (max case is an n+1 bit)\n",
    "\n",
    "- Algorithm\n",
    "    - start with LSB and compute XOR for least significant bit\n",
    "    - then we can compute the AND for the carry bit \n",
    "\n",
    "![title](half-adder.png)\n",
    "\n",
    "2 half adders matched with an OR gate to create a full adder, this takes into account the extra bit from additions (if both bits are 1) plus the bits themselves\n",
    "\n",
    "we can recursively add full adders to add whatever n-bit numbers we want\n",
    "\n",
    "\n",
    "This works but includes way too much detail and can be improved by just using big-O notation\n",
    "\n",
    "Algorithms ans their costs\n",
    "- Multiplication (N^2)/(NM) Improved: (n * lg(n) * lg(lg(n)))\n",
    "- Modular Exponentiation: N^k (mod M) = )(KM^2 + nm) Improved O(n^3)\n",
    "- NullSpace mod(2) of n x m matrix (example in code block below)\n",
    "\n",
    "**Integer Factorization**\n",
    "- simple algorithm divides 0 - sqrt(n) for all possible factors, then to find the factors that factor. == $O(2^{n/2}*n^{2})$\n",
    "- number field sieve == $2^{O(n^{1/3}*lg^{2/3}*(n))}$\n",
    "\n",
    "Addition has linear cost, Mult, division, GCD all have quadratic cost, Mod Exp has cubic cost\n",
    "Integer Factorization has *Exponential Cost*\n",
    "When a problem is NP-Complete, it is said to have exponential cost\n",
    "\n",
    "\" Polynomial-cost algorithms, on the other hand, manage take advantage of the problem structure in some way that avoids an exponential scaling.\"\n",
    "\n",
    "Super-Polynomial advantage: quantum algorithms that reduce exponential time to polynomial time with no classical anologue"
   ]
  },
  {
   "cell_type": "code",
   "execution_count": 3,
   "metadata": {},
   "outputs": [
    {
     "data": {
      "text/plain": [
       "GF([[1, 0, 1, ..., 0, 1, 0],\n",
       "    [0, 1, 0, ..., 0, 0, 0]], order=2)"
      ]
     },
     "metadata": {},
     "output_type": "display_data"
    },
    {
     "name": "stdout",
     "output_type": "stream",
     "text": [
      "1.244041919708252\n"
     ]
    }
   ],
   "source": [
    "import galois\n",
    "import time\n",
    "\n",
    "x= time.time()\n",
    "\n",
    "GF = galois.GF(2)\n",
    "\n",
    "N, n = 1000, 1000\n",
    "\n",
    "A = GF.Random((N, n))\n",
    "B = A.null_space()\n",
    "display(B)\n",
    "x= time.time() -x\n",
    "print(x) # Seconds\n"
   ]
  },
  {
   "attachments": {},
   "cell_type": "markdown",
   "metadata": {},
   "source": [
    "### Classical Computation on Q. Computers\n",
    "\n",
    "#### Toffoli Gates (Controlled Controlled Not - CCX)\n",
    "\n",
    "- can be thought of as query gates for the AND function\n",
    "- can be constructed out of H, T, T dagger, and CX gates\n",
    "\n",
    "![title](Toffoli.png)\n",
    "\n",
    "- Toffoli gates can also implement AND / OR gates\n",
    "\n",
    "![title](AndOr.png)\n",
    "\n",
    "Fanout can be made with CNOT gates\n",
    "\n",
    "Suppose we had a Boolean Circuit named C, using only AND, OR, and NOT gates, with an input of N bits and an output of M bits, we could model its quantum anologue as the circuit R, adding a K amount of working qubits(to let the gates work)\n",
    "\n",
    "![title](QuantumBoolean.png)\n",
    "\n",
    "As we said above, k is the extra qubits to let the circuit work classically, and g(x) is the garbage of the computation\n",
    "\n",
    "Cleaning up the garbage\n",
    "- bad to keep garbage bc interference\n",
    "- since each gate has an inverse (operations are unitary matrices that always have inverses) we can j apply all the inverse Operations to the garbage qubits\n",
    "- add the extra gates and reverse the operations\n",
    "\n",
    "If C has t gates, Q has O(t) gates\n",
    "\n",
    "furthermore, if we have a circuit C that computes ƒ: ∑^n -> ∑^m\n",
    "the quantum analogue woukd be  Q( |y> |0^k> |x>) == |y ⊕ ƒ(x)> |0^k> |x>\n",
    "\n",
    "**We can only "
   ]
  }
 ],
 "metadata": {
  "kernelspec": {
   "display_name": "Python 3",
   "language": "python",
   "name": "python3"
  },
  "language_info": {
   "codemirror_mode": {
    "name": "ipython",
    "version": 3
   },
   "file_extension": ".py",
   "mimetype": "text/x-python",
   "name": "python",
   "nbconvert_exporter": "python",
   "pygments_lexer": "ipython3",
   "version": "3.10.2"
  },
  "orig_nbformat": 4,
  "vscode": {
   "interpreter": {
    "hash": "aee8b7b246df8f9039afb4144a1f6fd8d2ca17a180786b69acc140d282b71a49"
   }
  }
 },
 "nbformat": 4,
 "nbformat_minor": 2
}
