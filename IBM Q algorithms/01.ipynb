{
 "cells": [
  {
   "cell_type": "markdown",
   "metadata": {},
   "source": [
    "# Quantum Query Algorithms"
   ]
  },
  {
   "attachments": {},
   "cell_type": "markdown",
   "metadata": {},
   "source": [
    "### Query Model of Computation\n",
    "\n",
    "The entire input is not used for the computation\n",
    "- The input is passed as a *function* and the computation uses the input as a query for answers\n",
    "\n",
    "- The query models version of computation suggests that inputs only result in answers, you dont get to see the bigger picture of how everything works\n",
    "    - this is why terms like oracle or black box are used\n",
    "\n",
    "The input to the query functions in the lesson will take the form\n",
    "\n",
    "f: ∑^n -> ∑^m\n",
    "- f denotes a function\n",
    "- ∑ = {0,1}\n",
    "- n and m are integers\n",
    "basically Were saying that we pass in a integer string of length n and recieving another string of length m\n",
    "\n",
    "a computation makes a query when the n string is selected and the m string is available to the computation\n",
    "\n",
    "the efficiency of an algorithm is calculated by counting the amount of queries the input requires"
   ]
  },
  {
   "attachments": {},
   "cell_type": "markdown",
   "metadata": {},
   "source": [
    "### Examples of Query Problems\n",
    "\n",
    "#### Or (me lol)\n",
    "input : ∑^n -> ∑ (returns a one digit string from the input)\n",
    "output: 1 if theres a 1 in the string, 0 if no ones in the string\n",
    "\n",
    "#### Minimum\n",
    "input: f: ∑^n -> ∑^m\n",
    "output: the minimum value or more specifically, the string that comes fist when read lexicographically (first one in the string)\n",
    "\n",
    "\n",
    "**Promise** - The input is going to have to exist some sort of way to get useful computation, the computation wont evaluate the string seriously if its not in a certain way\n",
    "\n",
    "#### Unique Search\n",
    "input : ∑^n -> ∑ (returns a one digit string from the input)\n",
    "output: returns a string z for the unique item searched\n",
    "\n",
    "Query problems usually dont feel natural or intuitive like this, sometimes the input and the querying dont feel natural"
   ]
  },
  {
   "attachments": {},
   "cell_type": "markdown",
   "metadata": {},
   "source": [
    "### Query Gates\n",
    "\n",
    "- in classical boolean circuits, we can imagine the input as an the function of n length of bits, and the circuit as the computation\n",
    "\n",
    "![title](01A.png)\n",
    "\n",
    "think of the circuits as values that never change and the function as the variable that changes\n",
    "\n",
    "Query gates are the inputs, we are given the input, and we are expected to build the computation for the output"
   ]
  },
  {
   "attachments": {},
   "cell_type": "markdown",
   "metadata": {},
   "source": [
    "### Quantum Circuit Model\n",
    "\n",
    "Since Quantum states can be in superposition, there will be situations where the quantum state for a circuit will be in a non-unitary state. The function gate has to be changed into a unitary query gate that can operate on a standard basis state\n",
    "\n",
    "![title](02A.png)\n",
    "\n",
    "The above example is a bitwase exclusive Or (XOR) function. It returns a 1 for any 2 numbewers bewteen |X> and |Y> where one is a one and the other is a 0. \n",
    "\n",
    "The matrix is an example of a permutation matrix. It changes the order of the string, thats it\n",
    "This just measn its an identity matrix with some rows/columns flipped around, ergo its unitary\n",
    "\n",
    "NOTE: it is realtively straightforward to create a quantum analogue of a classical query circuit"
   ]
  },
  {
   "attachments": {},
   "cell_type": "markdown",
   "metadata": {},
   "source": [
    "### Deutchs Algorithm\n",
    "\n",
    "Deutchs Problem - parity problem for functions of the form F: ∑ -> ∑ (one bit to one bit)\n",
    "function takes single bit as input, returns 0 if f is constant f(01)= (00),(11) or 1 if f is balanced f(01)=(01),(10)\n",
    "\n",
    "every classical query algorithm must make 2 queries to f to solve this problem.\n",
    "- you need to know both bits to find the parity\n",
    "\n",
    "Deutschs algorithm can solve the parity problem with one query to a quantum circuit\n",
    "\n",
    "![title](03A.png)\n",
    "Init qubit 0 to |0> and qubit 1 to |1>\n",
    "Perform Hadamard ops. on both of the qubits, feed them into the query gate U, perform one more Hadamard, then measure\n",
    "\n",
    "measuring a zero means its constant, measuring a 1 means its balanced\n",
    "\n",
    "After the Hadamard on both qubits, we are in the tensor product of the - and + states\n",
    "| - >|+ > == 1/2(|0> -|1>)|0> + 1/2(|0> - |1>)|1>\n",
    "\n",
    "Next, the Unitary matrix query gate XOR's the top qubit into the bottom qubit giving the state\n",
    "\n",
    "1/2 (∣0⊕f(0)⟩−∣1⊕f(0)⟩)∣0⟩+  1/2 (∣0⊕f(1)⟩−∣1⊕f(1)⟩)∣1⟩\n",
    "\n",
    "when we perform the final hadamard op. we get \n",
    "\n",
    "-1 ^(f(0)) |-> (|0> or |1>) \n",
    "\n",
    "why this algorithm works is that when we place the Hadamard on the first qubit, then we are in a superposition, then when we compute the unitary matrix, we use the interference of the second qubit to guide us to the right answer. The phase of the second qubit interferes, bringing a higher likelihood to the right answer and a lower likelihood for the wrong answer\n",
    "\n",
    "#### Phase Kickback\n",
    "(the phase of one qubit is affected by the state of another qubit)\n",
    "|b ® c> = X^c |b>\n",
    "\n",
    "b and c are random binary values\n",
    "XORing a bit b by the value 1 gives you the inverse (or the NOT gate) of b\n",
    "\n",
    "performing the Deutsch gate on the standard basis states |b>|a> gives you the XOR of b and the function of a tensored with |a>\n",
    "|b ® f(a)>|a>\n",
    "\n",
    "the matrix X has eigenvalue -1, meaning that X|-> = - | ->"
   ]
  },
  {
   "cell_type": "code",
   "execution_count": 1,
   "metadata": {},
   "outputs": [],
   "source": [
    "from qiskit import QuantumCircuit\n",
    "\n",
    "\n",
    "def deutsch_function(case: int):\n",
    "    \"\"\"\n",
    "    Generate a valid Deutsch function as a `QuantumCircuit`.\n",
    "    \"\"\"\n",
    "    if case not in [1, 2, 3, 4]:\n",
    "        raise ValueError(\"`case` must be 1, 2, 3, or 4.\")\n",
    "\n",
    "    f = QuantumCircuit(2)\n",
    "    if case in [2, 3]:\n",
    "        f.cx(0, 1)\n",
    "    if case in [3, 4]:\n",
    "        f.x(1)\n",
    "    return f"
   ]
  },
  {
   "cell_type": "code",
   "execution_count": 2,
   "metadata": {},
   "outputs": [
    {
     "data": {
      "text/html": [
       "<pre style=\"word-wrap: normal;white-space: pre;background: #fff0;line-height: 1.1;font-family: &quot;Courier New&quot;,Courier,monospace\">               \n",
       "q_0: ──■───────\n",
       "     ┌─┴─┐┌───┐\n",
       "q_1: ┤ X ├┤ X ├\n",
       "     └───┘└───┘</pre>"
      ],
      "text/plain": [
       "               \n",
       "q_0: ──■───────\n",
       "     ┌─┴─┐┌───┐\n",
       "q_1: ┤ X ├┤ X ├\n",
       "     └───┘└───┘"
      ]
     },
     "execution_count": 2,
     "metadata": {},
     "output_type": "execute_result"
    }
   ],
   "source": [
    "deutsch_function(3).draw()"
   ]
  },
  {
   "cell_type": "code",
   "execution_count": 3,
   "metadata": {},
   "outputs": [],
   "source": [
    "# Now the Unitary operation can be applied\n",
    "\n",
    "def compile_circuit(function: QuantumCircuit):\n",
    "    \"\"\"\n",
    "    Compiles a circuit for use in Deutsch's algorithm.\n",
    "    \"\"\"\n",
    "    n = function.num_qubits - 1\n",
    "    qc = QuantumCircuit(n + 1, n)\n",
    "\n",
    "    qc.x(n)\n",
    "    qc.h(range(n + 1))\n",
    "\n",
    "    qc.barrier()\n",
    "    qc.compose(function, inplace=True)\n",
    "    qc.barrier()\n",
    "\n",
    "    qc.h(range(n))\n",
    "    qc.measure(range(n), range(n))\n",
    "\n",
    "    return qc"
   ]
  },
  {
   "cell_type": "code",
   "execution_count": 4,
   "metadata": {},
   "outputs": [
    {
     "data": {
      "text/html": [
       "<pre style=\"word-wrap: normal;white-space: pre;background: #fff0;line-height: 1.1;font-family: &quot;Courier New&quot;,Courier,monospace\">     ┌───┐      ░            ░ ┌───┐┌─┐\n",
       "q_0: ┤ H ├──────░───■────────░─┤ H ├┤M├\n",
       "     ├───┤┌───┐ ░ ┌─┴─┐┌───┐ ░ └───┘└╥┘\n",
       "q_1: ┤ X ├┤ H ├─░─┤ X ├┤ X ├─░───────╫─\n",
       "     └───┘└───┘ ░ └───┘└───┘ ░       ║ \n",
       "c: 1/════════════════════════════════╩═\n",
       "                                     0 </pre>"
      ],
      "text/plain": [
       "     ┌───┐      ░            ░ ┌───┐┌─┐\n",
       "q_0: ┤ H ├──────░───■────────░─┤ H ├┤M├\n",
       "     ├───┤┌───┐ ░ ┌─┴─┐┌───┐ ░ └───┘└╥┘\n",
       "q_1: ┤ X ├┤ H ├─░─┤ X ├┤ X ├─░───────╫─\n",
       "     └───┘└───┘ ░ └───┘└───┘ ░       ║ \n",
       "c: 1/════════════════════════════════╩═\n",
       "                                     0 "
      ]
     },
     "execution_count": 4,
     "metadata": {},
     "output_type": "execute_result"
    }
   ],
   "source": [
    "compile_circuit(\n",
    "    deutsch_function(3)\n",
    ").draw()"
   ]
  },
  {
   "attachments": {},
   "cell_type": "markdown",
   "metadata": {},
   "source": [
    "### Deutsch- Josza algorithm\n",
    "\n",
    "Basically Deutsch algorithm but goes from one bit to one bit, to n bits to one bit\n",
    "f: ∑^n -> ∑\n",
    "\n",
    "Deutch-Josza Circuit\n",
    "![title](04A.png)\n",
    "the output is a n-bit string y that tells us something about the function f\n",
    "\n",
    "Deutsch-Josza Problem:\n",
    "tells us if the input neither constant or balanced (0 , 1 respectively)\n",
    "We promise that the input functions are either constant or balanced (some n>=2 strings can be neither, these are the 'dont care' values )\n",
    "\n",
    "#### Analysis\n",
    "\n",
    "The Hadamard operation can be rewritten for these standard basis states \n",
    "\n",
    "![title](05A.png)\n",
    "\n",
    "A Hadamard for a layer of qubits can be expressed like this \n",
    "\n",
    "![title](06A.png)\n",
    "\n",
    "the tensor product in the exponent means that we are tensor producting H with itself n times\n",
    "\n",
    "##### Binary Dot Product\n",
    "- the XOR of the AND of the bits of each string\n",
    "- 1 if the sum of each AND is odd\n",
    "- 0 if the sum of each AND is even\n",
    "\n",
    "\n",
    "\n",
    "After the circuit, we have a constant bit-string if every qubit measures to 0\n",
    "Or its balanced if one of the qubit measures to 1\n",
    "\n",
    "Any deterministic algorithm needs to make 2^(n-1)+1 queries (more than half of n)\n",
    "A probabalistic algorithm can be pretty accurate (not perfect) by randomly choosing bits in the string and seeing if they have different values or the same values\n"
   ]
  },
  {
   "attachments": {},
   "cell_type": "markdown",
   "metadata": {},
   "source": [
    "### The Berenstein-Vazirani Problem\n",
    "input f: ∑^n -> ∑\n",
    "promise: Theres a string S wfor which f(x) = s*x (binary dot product)\n",
    "output: S\n",
    "\n",
    "The Deutsch-Josza Algorithm Can give the answer with no change to its circuit\n",
    "\n",
    "![title](07A.png)\n",
    "\n",
    "which can be reduced to \n",
    "| - > ® | s >"
   ]
  },
  {
   "attachments": {},
   "cell_type": "markdown",
   "metadata": {},
   "source": [
    "### Simon's Algorithm\n",
    "\n",
    "input: F: ∑^n -> ∑^m (maps a string of length n to a string of length m)\n",
    "promise: f(x)=f(y) <=> (x=y) or (x ® s = y)\n",
    "output: S\n",
    "\n",
    "Cases for S\n",
    "S= 0^n (zero string)\n",
    "- Results in f(x) = f(y) being x=y because any strin XOR'd with itself is itself (one-to-one)\n",
    "\n",
    "S != o^n\n",
    "- Results in f(x) = f(x ® s)(two-to-one)\n",
    "    - for every inout string x, there must be exactly one other string where f(x)= f(x ® s)\n",
    "\n",
    "Case 2 table\n",
    "![title](08A.png)\n",
    "\n",
    "we can see that f(000) == f(011) = 10011, f(001) = f(010) = 00101,...\n",
    "\n",
    "The Circuit for simons algorithm runs the circuit several times, and has m qubits in the beginning, but returns n qubits\n",
    "\n",
    "![title](09A.png)\n",
    "\n",
    "n qubits go through an H. operation, m qubits stay initialized at |0>, meaning there is no phase kickback in the algorithm\n",
    "\n",
    "each time we run the circuit, we get some info in the form of a string y that says something about the string S\n",
    "running it multiple times increases the confidence in what S might be"
   ]
  },
  {
   "attachments": {},
   "cell_type": "markdown",
   "metadata": {},
   "source": [
    "### Classical Post-Processing\n",
    "Running the circuit gives us a random string y \n",
    "suppose we run the string k time (k=n+r) giving us k strings y - we will have probability 99.9%\n"
   ]
  }
 ],
 "metadata": {
  "kernelspec": {
   "display_name": "Python 3",
   "language": "python",
   "name": "python3"
  },
  "language_info": {
   "codemirror_mode": {
    "name": "ipython",
    "version": 3
   },
   "file_extension": ".py",
   "mimetype": "text/x-python",
   "name": "python",
   "nbconvert_exporter": "python",
   "pygments_lexer": "ipython3",
   "version": "3.10.2"
  },
  "orig_nbformat": 4,
  "vscode": {
   "interpreter": {
    "hash": "aee8b7b246df8f9039afb4144a1f6fd8d2ca17a180786b69acc140d282b71a49"
   }
  }
 },
 "nbformat": 4,
 "nbformat_minor": 2
}
