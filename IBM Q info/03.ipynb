{
 "cells": [
  {
   "attachments": {},
   "cell_type": "markdown",
   "metadata": {},
   "source": [
    "# Quantum Circuits"
   ]
  },
  {
   "cell_type": "code",
   "execution_count": 3,
   "metadata": {},
   "outputs": [],
   "source": [
    "from qiskit import QuantumCircuit\n",
    "from qiskit.circuit.library import * # To get Hadamard Gate\n",
    "\n"
   ]
  },
  {
   "attachments": {},
   "cell_type": "markdown",
   "metadata": {},
   "source": [
    "Q. analogue of classical circuit representation\n",
    "    - wires carry information\n",
    "    - gates carry operations\n",
    "    - information goes from left to right\n",
    "\n",
    "## Quantum Circuits\n",
    "- Wires represent Quibts\n",
    "- Gates represent **Unitary Operations And Measurements**\n",
    "- Unrelated but |0> is the assumed initialized state of a qubit\n",
    "\n",
    "In the example below, we have a 2 qubit circuit with a Hadamard gate applied to qubit 2\n",
    "\n",
    "- Its way more efficient to examine a particular state than to convert the matrices for all state sets\n",
    "  - as an example in the example below. Its easier to visualize the circuit with qubits having values |0> and |0>, going through the circuit will give us the Psi+ bell state\n",
    "\n",
    "- once qubits are measured, its common practice to stop using them, we already know their state\n",
    "\n",
    "- Toffoli gates are Controlled Controlled not gae\n",
    "- Fredkin Gates are controlled swap gates\n",
    "- arbitrary unitary operations can be modeled as gates over the select qubits"
   ]
  },
  {
   "cell_type": "code",
   "execution_count": 4,
   "metadata": {},
   "outputs": [
    {
     "data": {
      "image/png": "[encoded data removed]",
      "text/plain": [
       "<Figure size 203.683x200.667 with 1 Axes>"
      ]
     },
     "execution_count": 4,
     "metadata": {},
     "output_type": "execute_result"
    }
   ],
   "source": [
    "\n",
    "qc = QuantumCircuit(2)\n",
    "qc.qubits\n",
    "\n",
    "qc.append(HGate(),[1])\n",
    "\n",
    "qc.draw(\"mpl\")\n"
   ]
  },
  {
   "cell_type": "code",
   "execution_count": 5,
   "metadata": {},
   "outputs": [
    {
     "data": {
      "image/png": "[encoded data removed]",
      "text/plain": [
       "<Figure size 203.683x200.667 with 1 Axes>"
      ]
     },
     "execution_count": 5,
     "metadata": {},
     "output_type": "execute_result"
    }
   ],
   "source": [
    "# If we wanted to add a controlled not we could do this\n",
    "# qc.append(CXGate(),[0,1])\n",
    "\n",
    "qc.draw(\"mpl\")\n"
   ]
  },
  {
   "cell_type": "code",
   "execution_count": 11,
   "metadata": {},
   "outputs": [
    {
     "data": {
      "image/png": "[encoded data removed]",
      "text/plain": [
       "<Figure size 203.683x200.667 with 1 Axes>"
      ]
     },
     "execution_count": 11,
     "metadata": {},
     "output_type": "execute_result"
    }
   ],
   "source": [
    "# If we wanted to measure a state we could use this and then apply it to a classical bit\n",
    "# qc.append()\n",
    "# qc.append(Measure(1,1))\n",
    "\n",
    "qc.draw(\"mpl\")\n"
   ]
  },
  {
   "attachments": {},
   "cell_type": "markdown",
   "metadata": {},
   "source": [
    "## Inner Products\n",
    "- Ket is transpose of Bra\n",
    "    - Ket Column, Bra bRow\n",
    "- Bra*Ket (Bracket) gives a scalar of the dot product (complex number)\n",
    "    - Called **Inner Product**\n",
    "\n",
    "- If both vectors only have real numbers, their inner product will be the cosine of the angle between them\n",
    "\n",
    "![title](09.png)\n",
    "\n",
    "- the inner product of the same vector multiplied by itself is euclidean norm squared\n",
    "- if you change the order of the inner product, the answer is its conjugate\n",
    "- the absolute value of the inner product can never be higher than the product of the euclidean norms\n",
    "    - The abs. value of the inner prod. is only equal if the 2 vectors are linearly dep.\n",
    "    - Cauchy-Schwarz inequality (cojhy shwarzs)"
   ]
  },
  {
   "attachments": {},
   "cell_type": "markdown",
   "metadata": {},
   "source": [
    "## Orthogonality and orthonormality\n",
    "\n",
    "**two vectors are orthogonal if their inner product is equal to zero**\n",
    "- extrends to the idea that the cosine between them is 90 (perpendicular)\n",
    "- a set of vectors is orthogonal if any 2 vectors are orthogonal from eachorthes\n",
    "\n",
    "orthonormal sets are orthogonal sets but normalized (unit vectors)\n",
    "an orthonormal basis is a set that makes a basis out of its components\n",
    "\n",
    "- *Gram-Schmidt orthogonalization process* - not important\n",
    "\n",
    "- any Unitary matrix can form an orthonormal basis with its rows or columns"
   ]
  },
  {
   "attachments": {},
   "cell_type": "markdown",
   "metadata": {},
   "source": [
    "## Projections\n",
    "\n",
    "a square matrix is a **Projection** iff\n",
    "- The matrix it equal to its conjugate transpose\n",
    "- the matrix is equal to its square\n",
    "- the zero matrix is a projection\n",
    "\n",
    "- any unit vector A, is a projection if its bra is crossed with its ket (|A><A|)\n",
    "(AB) conjugate transpose == conjugate transpose B * conj. transpose A\n",
    "\n",
    "### Projective Measurements\n",
    "A **Projective Measurement is the sum of a set of projections that sums to 1\n",
    "\n",
    "When a projective measurement of a quantum state |A> happens, two things happen\n",
    "- The outcome is between 1 and the number of projections\n",
    "- if we get the outcome k, the state of the system collapses into the quantum state vector divided by its euclidean norm\n",
    "\n",
    "Examples\n",
    "- Standard Basis Measurements are projective measurements\n",
    "    - the outcomes are the classical state of the system\n",
    "    - the measurement is described by the set { |a><a| for all a in ∑}\n",
    "\n",
    "Suppose we had the state set ∑ represented by the state vector Psi\n",
    "Suppose we measure Psi, each outcome will have a probability of || |a><a | psi| ||^2\n",
    "- equal to the absolute value squared of the entry psi\n",
    "\n",
    "![title](10.png)\n",
    "\n",
    "Every projective measurement can be modeled using unitary matrices and standard basis matrices\n",
    "- suppose we had 2 qubits with any projective measurements, applying a hadamard gate, to a fredkin gate (applied to the first 2 qubits) to another Hadamard gate, to a third uninitialized qubit, we can use a standard basis measurement to measure the two projective mesurements"
   ]
  },
  {
   "attachments": {},
   "cell_type": "markdown",
   "metadata": {},
   "source": [
    "## Limits of Qunatum Information\n",
    "\n",
    "### Irrelevance of global phase\n",
    "- A quantum state vector Psi equal to a multiple quantum state vector phi is said to *differ by a **global phase***\n",
    "    - |A> = c|B>\n",
    "    - since quantum state vectors are unit vectors, c must be a complex number whos absolute value equals 1\n",
    "        - c has to lie on the unit circle\n",
    "        - this makes a lot of sense through a dsp lens, two sines are different if they have different phases\n",
    "- Quantum states vectors that are differ by a global phase are considered to be equivalent and indistinguishable from eachother\n",
    "    - lies in a fault of quantum state vectors as a representation of quantum states\n",
    "\n",
    "### No-Cloning Theorem\n",
    "Basically you cant copy quantum states\n",
    "\n",
    "- Suppose we have 2 systems X and Y with at least 2 states in the state set\n",
    "- There isnt a unitary operation that can be applied to X and Y to make X = Y\n",
    "\n",
    "![title](11.png)\n",
    "\n",
    "**Some States can be cloned through some unitary operations, but there isnt a universal system for all quantum systems**\n",
    "- Some approximate cloning algorithms exist\n",
    "- Copying a standard basis state is possible and not in validation of the no-cloning theorem\n",
    "    - i.e if we had a controlled not on an uninitialized qubit, it will clone the state of the control-qubit\n",
    "- Cloning a probabalistic state (classically) is also impossible\n",
    "\n",
    "### Discriminating non-orthogonal states\n",
    "- you cant perfectly distinguish between non-orthogonal quantum states\n",
    "- you can perfectly distinguish  between orthogonal quantum states"
   ]
  },
  {
   "cell_type": "markdown",
   "metadata": {},
   "source": []
  }
 ],
 "metadata": {
  "kernelspec": {
   "display_name": "Python 3",
   "language": "python",
   "name": "python3"
  },
  "language_info": {
   "codemirror_mode": {
    "name": "ipython",
    "version": 3
   },
   "file_extension": ".py",
   "mimetype": "text/x-python",
   "name": "python",
   "nbconvert_exporter": "python",
   "pygments_lexer": "ipython3",
   "version": "3.10.2"
  },
  "orig_nbformat": 4,
  "vscode": {
   "interpreter": {
    "hash": "aee8b7b246df8f9039afb4144a1f6fd8d2ca17a180786b69acc140d282b71a49"
   }
  }
 },
 "nbformat": 4,
 "nbformat_minor": 2
}
