{
 "cells": [
  {
   "attachments": {},
   "cell_type": "markdown",
   "metadata": {},
   "source": [
    "# Multiple Systems"
   ]
  },
  {
   "attachments": {},
   "cell_type": "markdown",
   "metadata": {},
   "source": [
    "\"We can always take two or more systems and view them as a single compound system\"\n",
    "- Still allows us to view the system in the way we understand it\n",
    "    - entries as complex numbers and a euclidean norm equal to 1\n",
    "    - Outcomes are classical states\n",
    "    - Operations are represented by unitary matrices\n",
    "    \n"
   ]
  },
  {
   "attachments": {},
   "cell_type": "markdown",
   "metadata": {},
   "source": [
    "## Classical Systems\n",
    "- Suppose we have a classical system X with set Sigma\n",
    "- And another classical system Y with set gamma\n",
    "- If we put them together, x on the left y on the right. we have a form a new single compound system (X,Y) or XY\n",
    "\n",
    "- What are the new states of XY?\n",
    "- The **Cartesian Product** is the classical state set of XY\n",
    "    - The cartesian product simply makes an ordered pair of all combinations of elements in each set.\n",
    "    - there is no difference in the order of the cartesian product or the sets themselses, just that the order is kept in the elements of the sets\n",
    "\n",
    "- For any n sets, we can make a cartesian product with each set, resulting in an n-tuple of each component set\n",
    "    - ex. three binary alphabets have a cartesian product with 8 possibilities (0,0,0)-(1,1,1)\n",
    "    - the tuple can also be written as a string by dropping the parantheses and the commas (010= (0,1,0))\n",
    "    - If we have 10 bits, we can represent the classical state set as (X1,...,X10)\n",
    "        - we can write the state set as {0,1}^10\n",
    "        - the component tuples/ strings can be writen as 0000000000-1111111111\n",
    "- Cartesian products are ordered lexicographically (dictionary ordered)\n",
    "    - Each next component matters less than the last, just like digits in a number\n",
    "    "
   ]
  },
  {
   "attachments": {},
   "cell_type": "markdown",
   "metadata": {},
   "source": [
    "## Probabalistic States\n",
    "- Suppose we have a 2 bits X and Y, they have the probabalistic states below\n",
    "    - Pr((X,Y)=(0,0))=1/2\n",
    "    - Pr((X,Y)=(0,1))=0\n",
    "    - Pr((X,Y)=(1,0))=0\n",
    "    - Pr((X,Y)=(1,1))=1/2\n",
    "- This is a valid probabalistic state of XY\n",
    "- The 2 bits never disagree\n",
    "- we can also write this as a vector   $$\\begin{bmatrix} 1/2 \\\\ 0 \\\\ 0 \\\\ 1/2 \\end{bmatrix}$$\n",
    "- this corresponds to the states 00, 01, 10, 11\n",
    "\n",
    "- For a probabalistic state XY, we say that X and Y are independent if the probability of X has nothing to do with the Probability of Y\n",
    "    - Just like if 2 random numbers are picked, then the 2 choices are independent\n",
    "\n",
    "\n",
    "![title](03.png)\n",
    "\n",
    "\n",
    "If we have the probabalistic state 1/2|00> + 1/2|11>, then we dont ahve independence since the probabilities are for both of the bits being a certain number, they depend on eachother"
   ]
  },
  {
   "attachments": {},
   "cell_type": "markdown",
   "metadata": {},
   "source": [
    "## Tensor Products of Vectors\n",
    "\n",
    "- the tensor product of two vectors (⊗) is equal to the product of the cartesian product ordered pairs\n",
    "- lets say we have the two bits with probabilities Phi = 1/4|0> + 3/4|1> and Psi = 2/3|0> +1/3|1>\n",
    "- we can extrapolate that Phi ⊗ Psi = 1/6|00> + 1/12|01> + 1/2|10> + 1/4|11>\n",
    "    - We multiply each probability for each state, this is the tensor product\n",
    "\n",
    "- Tensor products (Phi ⊗ Psi) can also be rewritten as |Phi>|Psi> or | Phi ⊗ Psi >\n",
    "- If we have standard basis vectors, we can rewrite their tensor product as |ab> or |(a,b)> or |a,b>\n",
    "\n",
    "- Tensor Products also share that same lexicographic order that we had in Cartesian products, where the products follow the least significant to the most significant\n",
    "\n",
    "- Tensor products are also bilinear meanning if we had a scalar in one of the vectors, we can multiply the product by the vector after\n",
    "\n",
    "- Tensor products can also extend into any amount of vectors, if all products are there\n",
    "    - The tensor product is then multilinear in the case of more than 3 vectors"
   ]
  },
  {
   "attachments": {},
   "cell_type": "markdown",
   "metadata": {},
   "source": [
    "## Tensor Products of Matrices\n",
    "- the tensor product of two matrices is each component of the matrix multiplied by the other matrix\n",
    "\n",
    "![title](06.png)\n",
    "\n"
   ]
  },
  {
   "attachments": {},
   "cell_type": "markdown",
   "metadata": {},
   "source": [
    "## Measurements of Probabalistic states\n",
    "- Suppose we have 2 systems (X, Y) that are dependent in some probabalistic state, what happens when we measure X and do nothing to Y?\n",
    "- The probability of the state of X being one thing if we measure it, has to be consistent with the probability of measuring the state of Y.\n",
    "- Pr((X,Y)= (a,b))/Pr(X=a)\n",
    "    - .5/.5=1\n",
    "\n",
    "![title](04.png)\n",
    "\n",
    "\n"
   ]
  },
  {
   "attachments": {},
   "cell_type": "markdown",
   "metadata": {},
   "source": [
    "## Operations on Probabalistic States\n",
    "\n",
    "- Operations on compound systems are the same as single systems, they are represented by stochastic matrices.\n",
    "    - However, the rows and columns correspond to the cartesian product of the individual systems states\n",
    "\n",
    "- Example with **Controlled-Not** on two bits X and Y\n",
    "    - If X = 0, Y= whatever Y's state is\n",
    "    - If X=1, then perform a NOT operation on Y\n",
    "        - X is the **Control-Bit** that determines wether or not a NOT operation is applied on the **Target-Bit** Y\n",
    "\n",
    "![title](05.png)\n",
    "\n",
    "Suppose we have a compound system (X,Y) and we have two probabalistic operations stored as stochastic matrices, M and N. \n",
    "1. M is an operation on X\n",
    "2. N is an operation on Y\n",
    "If we simultaneously perform the two operations, what is the effect on the compound system?\n",
    "\n",
    "- Knowing what we know about tensor products on matrices, the tensor product of M and N will be the effect on the compound system (X,Y)\n",
    "- Tensor Products represent independence - this time between operations\n"
   ]
  },
  {
   "attachments": {},
   "cell_type": "markdown",
   "metadata": {},
   "source": [
    "# Quantum Information"
   ]
  },
  {
   "attachments": {},
   "cell_type": "markdown",
   "metadata": {},
   "source": [
    "## Quantum States\n",
    "Quantum states for multiple systems can be represented as a column vector whose indices correspond to the cartesian product of the classical set states\n",
    "\n",
    "- if (X,Y) are qubits, the classical state set for the pair (the cartesian product) would be \n",
    "    - {0,1} X {0,1} = {00, 01, 10, 11}\n",
    "\n",
    "- Tensor Products of quantum state vectors are also quantum state vectors\n",
    "    - suppose |$P\\Psi$> is a Q. state vector of a system X and |$\\Phi$> is a Q. state vector of a system Y, the cartesian product |$\\Phi$> ® |$\\Psi$> is a Q. state vector in the system (X,Y)\n",
    "- These compound system states (which are also Q. state vectors) are called **Product States**, they represent *independece* between X and Y\n",
    "    - independence means if we had two different quantum systems they could exist in two different scenarios but still be compounded (in the case of the tensor prod.)\n",
    "- this all extends into higher multiple systems with multiple states.\n",
    "\n",
    "### EntangleMent\n",
    "- Briefly, Entanglement is a compound system in which the classical state of one set is dependent on the other classical state set\n",
    "    - in a 2 qubit example, We would not be in a product state or probabalistic state, considering one state set is dependent on the other\n",
    "\n",
    "*dont pay attention to the image below, it is just some of the common entangled compound systems called **the bell states***\n",
    "\n",
    "![title](07.png)\n",
    "\n",
    "\n"
   ]
  },
  {
   "attachments": {},
   "cell_type": "markdown",
   "metadata": {},
   "source": [
    "## Measurements\n",
    "They work the same way in a compound system that they would work in a single system\n",
    "\n",
    "- Suppose we have a quantum sate of multiple systems and each system is measured (meaning that the results can only be classical states)\n",
    "    - then the probability of a certain string is the absolute value of that string squared (this is the same as our classical system being independent)\n",
    "\n",
    "- If we measure one of the sets, the probability of a certain state within the compound set will change to be the compound probability divided by the euclidean norm of the measured set (same as classical prob. setting where we divided by the sum of entries in the state set of the measured set)\n",
    "\n",
    "![title](08.png)\n",
    "\n"
   ]
  },
  {
   "attachments": {},
   "cell_type": "markdown",
   "metadata": {},
   "source": [
    "## Unitary Operations!\n",
    "Q. Operations on Compound systems are represented as unitary matrices whose rows and colums correspond to the classical state sets of the classical state sets of the individual systems, with multiple systems, we use the tensor product of the unitary matrices **ONLY IN THE CASE OF INDEPENDENCE**"
   ]
  },
  {
   "cell_type": "markdown",
   "metadata": {},
   "source": []
  }
 ],
 "metadata": {
  "kernelspec": {
   "display_name": "Python 3",
   "language": "python",
   "name": "python3"
  },
  "language_info": {
   "name": "python",
   "version": "3.10.2"
  },
  "orig_nbformat": 4,
  "vscode": {
   "interpreter": {
    "hash": "aee8b7b246df8f9039afb4144a1f6fd8d2ca17a180786b69acc140d282b71a49"
   }
  }
 },
 "nbformat": 4,
 "nbformat_minor": 2
}
